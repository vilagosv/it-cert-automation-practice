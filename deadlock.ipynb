{
  "nbformat": 4,
  "nbformat_minor": 0,
  "metadata": {
    "colab": {
      "provenance": [],
      "authorship_tag": "ABX9TyPN0tauGBjtH3SsshKl8FVO",
      "include_colab_link": true
    },
    "kernelspec": {
      "name": "python3",
      "display_name": "Python 3"
    },
    "language_info": {
      "name": "python"
    }
  },
  "cells": [
    {
      "cell_type": "markdown",
      "metadata": {
        "id": "view-in-github",
        "colab_type": "text"
      },
      "source": [
        "<a href=\"https://colab.research.google.com/github/vilagosv/it-cert-automation-practice/blob/master/deadlock.ipynb\" target=\"_parent\"><img src=\"https://colab.research.google.com/assets/colab-badge.svg\" alt=\"Open In Colab\"/></a>"
      ]
    },
    {
      "cell_type": "code",
      "source": [
        "# SuperFastPython.com\n",
        "# example of a deadlock caused by threads waiting on each other\n",
        "from threading import current_thread\n",
        "from threading import Thread\n",
        " \n",
        "# task to be executed in a new thread\n",
        "def task(other):\n",
        "    # message\n",
        "    print(f'[{current_thread().name}] waiting on [{other.name}]...')\n",
        "    other.join()\n",
        " \n",
        "# get the current thread\n",
        "main_thread = current_thread()\n",
        "# create the second thread\n",
        "new_thread = Thread(target=task, args=(main_thread,))\n",
        "\n",
        "# start the new thread\n",
        "new_thread.start()\n",
        "\n",
        "# run the first thread\n",
        "task(new_thread)"
      ],
      "metadata": {
        "id": "L8MHo6vP6ap0"
      },
      "execution_count": null,
      "outputs": []
    }
  ]
}