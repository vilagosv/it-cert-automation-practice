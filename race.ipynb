{
  "nbformat": 4,
  "nbformat_minor": 0,
  "metadata": {
    "colab": {
      "provenance": [],
      "authorship_tag": "ABX9TyPtRWfm7fXjgzLjQq30TVxZ",
      "include_colab_link": true
    },
    "kernelspec": {
      "name": "python3",
      "display_name": "Python 3"
    },
    "language_info": {
      "name": "python"
    }
  },
  "cells": [
    {
      "cell_type": "markdown",
      "metadata": {
        "id": "view-in-github",
        "colab_type": "text"
      },
      "source": [
        "<a href=\"https://colab.research.google.com/github/vilagosv/it-cert-automation-practice/blob/master/race.ipynb\" target=\"_parent\"><img src=\"https://colab.research.google.com/assets/colab-badge.svg\" alt=\"Open In Colab\"/></a>"
      ]
    },
    {
      "cell_type": "code",
      "execution_count": 6,
      "metadata": {
        "id": "oP_98Aws5OSL"
      },
      "outputs": [],
      "source": [
        "from threading import Thread\n",
        "\n",
        "def adder(amount, repeats):\n",
        "    global value\n",
        "    for _ in range(repeats):\n",
        "        value += amount\n",
        "\n",
        "def subtractor(amount, repeats):\n",
        "    global value\n",
        "    for _ in range(repeats):\n",
        "        value -= amount\n",
        "\n",
        "value = 0\n"
      ]
    },
    {
      "cell_type": "code",
      "source": [
        "adder_thread = Thread(target=adder, args=(100, 1000000))\n",
        "adder_thread.start()\n",
        "\n",
        "subtractor_thread = Thread(target=subtractor, args=(100, 1000000))\n",
        "subtractor_thread.start()\n",
        "\n",
        "adder_thread.join()\n",
        "subtractor_thread.join()\n",
        "\n",
        "print(f'Value: {value}')\n"
      ],
      "metadata": {
        "id": "mXp-N6LF6DdP",
        "outputId": "9e66dffd-9243-4fc2-ac0f-3a9ec08d4224",
        "colab": {
          "base_uri": "https://localhost:8080/"
        }
      },
      "execution_count": 12,
      "outputs": [
        {
          "output_type": "stream",
          "name": "stdout",
          "text": [
            "Value: 74182000\n"
          ]
        }
      ]
    }
  ]
}