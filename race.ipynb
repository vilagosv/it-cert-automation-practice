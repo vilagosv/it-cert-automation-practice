{
  "nbformat": 4,
  "nbformat_minor": 0,
  "metadata": {
    "colab": {
      "provenance": [],
      "authorship_tag": "ABX9TyN7cQmhx7EosVNEoEbPcAcS",
      "include_colab_link": true
    },
    "kernelspec": {
      "name": "python3",
      "display_name": "Python 3"
    },
    "language_info": {
      "name": "python"
    }
  },
  "cells": [
    {
      "cell_type": "markdown",
      "metadata": {
        "id": "view-in-github",
        "colab_type": "text"
      },
      "source": [
        "<a href=\"https://colab.research.google.com/github/vilagosv/it-cert-automation-practice/blob/master/race.ipynb\" target=\"_parent\"><img src=\"https://colab.research.google.com/assets/colab-badge.svg\" alt=\"Open In Colab\"/></a>"
      ]
    },
    {
      "cell_type": "code",
      "execution_count": 6,
      "metadata": {
        "id": "oP_98Aws5OSL"
      },
      "outputs": [],
      "source": [
        "from threading import Thread\n",
        "\n",
        "def adder(amount, repeats):\n",
        "    global value\n",
        "    for _ in range(repeats):\n",
        "        value += amount\n",
        "\n",
        "def subtractor(amount, repeats):\n",
        "    global value\n",
        "    for _ in range(repeats):\n",
        "        value -= amount\n",
        "\n",
        "value = 0\n"
      ]
    },
    {
      "cell_type": "code",
      "source": [
        "adder_thread = Thread(target=adder, args=(100, 1000000))\n",
        "adder_thread.start()\n",
        "\n",
        "subtractor_thread = Thread(target=subtractor, args=(100, 1000000))\n",
        "subtractor_thread.start()\n",
        "\n",
        "adder_thread.join()\n",
        "subtractor_thread.join()\n",
        "\n",
        "print(f'Value: {value}')\n"
      ],
      "metadata": {
        "id": "mXp-N6LF6DdP"
      },
      "execution_count": null,
      "outputs": []
    },
    {
      "cell_type": "code",
      "source": [
        "from threading import Lock\n",
        "\n",
        "def adder(amount, repeats, lock):\n",
        "    global value\n",
        "    for _ in range(repeats):\n",
        "        with lock:\n",
        "            value += amount\n",
        " \n",
        "def subtractor(amount, repeats, lock):\n",
        "    global value\n",
        "    for _ in range(repeats):\n",
        "        with lock:\n",
        "            value -= amount\n",
        " \n",
        "# define the global variable\n",
        "value = 0\n",
        "# define a lock to protect the shared variable\n",
        "lock = Lock()"
      ],
      "metadata": {
        "id": "L8MHo6vP6ap0"
      },
      "execution_count": 16,
      "outputs": []
    },
    {
      "cell_type": "code",
      "source": [
        "adder_thread = Thread(target=adder, args=(100, 1000000, lock))\n",
        "adder_thread.start()\n",
        "\n",
        "subtractor_thread = Thread(target=subtractor, args=(100, 1000000, lock))\n",
        "subtractor_thread.start()\n",
        "\n",
        "\n",
        "adder_thread.join()\n",
        "subtractor_thread.join()\n",
        "\n",
        "print(f'Value: {value}')"
      ],
      "metadata": {
        "id": "OocWVz5c6tfQ"
      },
      "execution_count": null,
      "outputs": []
    }
  ]
}